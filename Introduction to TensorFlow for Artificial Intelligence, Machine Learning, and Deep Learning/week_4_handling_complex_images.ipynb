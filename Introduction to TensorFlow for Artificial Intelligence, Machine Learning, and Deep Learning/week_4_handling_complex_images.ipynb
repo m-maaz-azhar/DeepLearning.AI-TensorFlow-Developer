{
 "cells": [
  {
   "cell_type": "code",
   "execution_count": 22,
   "id": "ee800e17",
   "metadata": {},
   "outputs": [],
   "source": [
    "import tensorflow as tf\n",
    "import numpy as np"
   ]
  },
  {
   "cell_type": "markdown",
   "id": "3671b720",
   "metadata": {},
   "source": [
    "## Load and Preprocess Data with Keras ImageDataGenerator ( point towards parent dir )"
   ]
  },
  {
   "cell_type": "code",
   "execution_count": 7,
   "id": "2d7e7763",
   "metadata": {},
   "outputs": [],
   "source": [
    "train_data_gen = tf.keras.preprocessing.image.ImageDataGenerator(rescale=1./255)"
   ]
  },
  {
   "cell_type": "code",
   "execution_count": null,
   "id": "6aaf60d2",
   "metadata": {},
   "outputs": [],
   "source": [
    "train_dir = 'path-to-data-directory'\n",
    "\n",
    "train_data = train_data_gen.flow_from_directory(\n",
    "    train_dir,\n",
    "    target_size=(300,300), # Resizing the images to a same size\n",
    "    batch_size=128,\n",
    "    class_mode='binary' # Defining no of Classes/Labels or the type of classification\n",
    ")"
   ]
  },
  {
   "cell_type": "code",
   "execution_count": 8,
   "id": "c724941d",
   "metadata": {},
   "outputs": [],
   "source": [
    "test_data_gen = tf.keras.preprocessing.image.ImageDataGenerator(rescale=1./255)"
   ]
  },
  {
   "cell_type": "code",
   "execution_count": null,
   "id": "2daea5fa",
   "metadata": {},
   "outputs": [],
   "source": [
    "test_dir = 'path-to-data-directory'\n",
    "\n",
    "test_data = test_data_gen.flow_from_directory(\n",
    "    test_dir,\n",
    "    target_size=(300,300), # Resizing the images to a same size\n",
    "    batch_size=128,\n",
    "    class_mode='binary' # Defining no of Classes/Labels or the type of classification\n",
    ")"
   ]
  },
  {
   "cell_type": "markdown",
   "id": "289ad8a5",
   "metadata": {},
   "source": [
    "## Creating CovNet Model"
   ]
  },
  {
   "cell_type": "code",
   "execution_count": 21,
   "id": "0773fcf9",
   "metadata": {},
   "outputs": [
    {
     "name": "stdout",
     "output_type": "stream",
     "text": [
      "Model: \"sequential_12\"\n",
      "_________________________________________________________________\n",
      " Layer (type)                Output Shape              Param #   \n",
      "=================================================================\n",
      " conv2d_36 (Conv2D)          (None, 298, 298, 16)      448       \n",
      "                                                                 \n",
      " max_pooling2d_36 (MaxPoolin  (None, 149, 149, 16)     0         \n",
      " g2D)                                                            \n",
      "                                                                 \n",
      " conv2d_37 (Conv2D)          (None, 147, 147, 32)      4640      \n",
      "                                                                 \n",
      " max_pooling2d_37 (MaxPoolin  (None, 73, 73, 32)       0         \n",
      " g2D)                                                            \n",
      "                                                                 \n",
      " conv2d_38 (Conv2D)          (None, 71, 71, 64)        18496     \n",
      "                                                                 \n",
      " max_pooling2d_38 (MaxPoolin  (None, 35, 35, 64)       0         \n",
      " g2D)                                                            \n",
      "                                                                 \n",
      " flatten_12 (Flatten)        (None, 78400)             0         \n",
      "                                                                 \n",
      " dense_24 (Dense)            (None, 512)               40141312  \n",
      "                                                                 \n",
      " dense_25 (Dense)            (None, 1)                 513       \n",
      "                                                                 \n",
      "=================================================================\n",
      "Total params: 40,165,409\n",
      "Trainable params: 40,165,409\n",
      "Non-trainable params: 0\n",
      "_________________________________________________________________\n"
     ]
    }
   ],
   "source": [
    "# CNN\n",
    "model = tf.keras.models.Sequential([\n",
    "    tf.keras.layers.Conv2D(16,(3,3),activation='relu',input_shape=(300,300,3)),\n",
    "    tf.keras.layers.MaxPooling2D(2,2),\n",
    "    tf.keras.layers.Conv2D(32,(3,3),activation='relu'),\n",
    "    tf.keras.layers.MaxPooling2D(2,2),\n",
    "    tf.keras.layers.Conv2D(64,(3,3),activation='relu'),\n",
    "    tf.keras.layers.MaxPooling2D(2,2),\n",
    "    tf.keras.layers.Flatten(),\n",
    "    tf.keras.layers.Dense(512,activation='relu'),\n",
    "    tf.keras.layers.Dense(1,activation='sigmoid')\n",
    "])\n",
    "\n",
    "# Activation Functions\n",
    "# sigmoid = Single Output Neurons (Used For Binary Classification)\n",
    "# softmax = Output Neurons Equals to No of labels (Used For Multiclass Classification)\n",
    "\n",
    "model.compile(\n",
    "    loss='binary_crossentropy',\n",
    "    optimizer=tf.keras.optimizers.RMSprop(learning_rate=0.001),\n",
    "    metrics=['accuracy']\n",
    ")\n",
    "\n",
    "# Loss Functions\n",
    "# binary_crossentropy = use for binary classification\n",
    "# categorical_crossentropy = use for multiclass classification\n",
    "\n",
    "model.summary()"
   ]
  },
  {
   "cell_type": "markdown",
   "id": "43b89295",
   "metadata": {},
   "source": [
    "## Defining Callback"
   ]
  },
  {
   "cell_type": "code",
   "execution_count": 30,
   "id": "ee7b4a54",
   "metadata": {},
   "outputs": [],
   "source": [
    "class myCallback(tf.keras.callbacks.Callback):\n",
    "    def on_epoch_end(self, epoch, logs={}):\n",
    "        if logs.get('accuracy') is not None and logs.get('accuracy') > 0.999:\n",
    "            print(\"\\nReached 99.9% accuracy so cancelling training!\")\n",
    "            self.model.stop_training = True    "
   ]
  },
  {
   "cell_type": "markdown",
   "id": "64439763",
   "metadata": {},
   "source": [
    "## Training Model"
   ]
  },
  {
   "cell_type": "code",
   "execution_count": null,
   "id": "6f615917",
   "metadata": {},
   "outputs": [],
   "source": [
    "callbacks = myCallback()\n",
    "\n",
    "history = model.fit(\n",
    "    train_data,\n",
    "    steps_per_epochs=8,\n",
    "    validation_data=test_data,\n",
    "    validation_steps=8,\n",
    "    epochs=15,\n",
    "    verbose=2, # steps animation / output\n",
    "    callbacks=[callbacks]\n",
    ")"
   ]
  },
  {
   "cell_type": "markdown",
   "id": "613bc92c",
   "metadata": {},
   "source": [
    "## Testing Model "
   ]
  },
  {
   "cell_type": "code",
   "execution_count": null,
   "id": "89fb3ada",
   "metadata": {},
   "outputs": [],
   "source": [
    "for file_name in uploaded.keys():\n",
    "     # predicting images\n",
    "    path = '/content/' + file_name\n",
    "    img = tensorflow.keras.utils.load_img(path, target_size=(300, 300))\n",
    "    x = tensorflow.keras.utils.img_to_array(img)\n",
    "    x /= 255\n",
    "    x = np.expand_dims(x, axis=0)\n",
    "\n",
    "    images = np.vstack([x])\n",
    "    \n",
    "    classes = model.predict(images, batch_size=10)\n",
    "    \n",
    "    print(classes[0])\n",
    "    \n",
    "    if classes[0]>0.5:\n",
    "        print(file_name + \" is a human\")\n",
    "    else:\n",
    "        print(file_name + \" is a horse\")"
   ]
  },
  {
   "cell_type": "code",
   "execution_count": null,
   "id": "a9df3275",
   "metadata": {},
   "outputs": [],
   "source": []
  },
  {
   "cell_type": "code",
   "execution_count": null,
   "id": "0d0c37fd",
   "metadata": {},
   "outputs": [],
   "source": []
  }
 ],
 "metadata": {
  "kernelspec": {
   "display_name": "Python 3 (ipykernel)",
   "language": "python",
   "name": "python3"
  },
  "language_info": {
   "codemirror_mode": {
    "name": "ipython",
    "version": 3
   },
   "file_extension": ".py",
   "mimetype": "text/x-python",
   "name": "python",
   "nbconvert_exporter": "python",
   "pygments_lexer": "ipython3",
   "version": "3.9.13"
  }
 },
 "nbformat": 4,
 "nbformat_minor": 5
}
